{
 "cells": [
  {
   "cell_type": "code",
   "execution_count": null,
   "metadata": {},
   "outputs": [
    {
     "ename": "",
     "evalue": "",
     "output_type": "error",
     "traceback": [
      "\u001b[1;31mRunning cells with 'venv (Python 3.11.5)' requires the ipykernel package.\n",
      "\u001b[1;31mRun the following command to install 'ipykernel' into the Python environment. \n",
      "\u001b[1;31mCommand: 'c:/Users/Sam/Documents/STI/GitHub/Arbetskollen/Arbetskollen_teacher/venv/Scripts/python.exe -m pip install ipykernel -U --force-reinstall'"
     ]
    }
   ],
   "source": [
    "import requests\n",
    "import json\n",
    "\n",
    "url = \"https://jobsearch.api.jobtechdev.se/search\"\n",
    "\n",
    "def _get_ads(params):\n",
    "    headers ={\"accept\": \"application(json)\"}\n",
    "    response = requests.get(url, headers=headers, params=params)\n",
    "    response.raise_for_status() # Check for http errors\n",
    "    return json.loads(response.content.decode(\"utf8\"))\n",
    "\n",
    "def example_search_return_number_of_hits(query):\n",
    "    # limit: 0 means no ads, just a value of how many ads were found.\n",
    "    search_params = {'q': query, 'limit': 0}\n",
    "    json_response = _get_ads(search_params)\n",
    "    number_of_hits = json_response['total']['value']\n",
    "    print(f\"\\nNumber of hits = {number_of_hits}\")\n",
    "\n",
    "def example_search_loop_through_hits(query):\n",
    "    # limit = 100 is the max number of hits that can be returned.\n",
    "    # If there are more (which you find with ['total']['value'] in the json response)\n",
    "    # you have to use offset and multiple requests to get all ads.\n",
    "    search_params = {'q': query, 'limit': 100}\n",
    "    json_response = _get_ads(search_params)\n",
    "    hits = json_response['hits']\n",
    "    for hit in hits:\n",
    "        print(f\"{hit['headline']}, {hit['employer']['name']}\")\n",
    "\n",
    "\n",
    "if __name__ == '__main__':\n",
    "    query = 'lärare' #Change here for other jobs\n",
    "    example_search_loop_through_hits(query)\n",
    "    example_search_return_number_of_hits(query)"
   ]
  }
 ],
 "metadata": {
  "kernelspec": {
   "display_name": "venv",
   "language": "python",
   "name": "python3"
  },
  "language_info": {
   "name": "python",
   "version": "3.11.5"
  }
 },
 "nbformat": 4,
 "nbformat_minor": 2
}
